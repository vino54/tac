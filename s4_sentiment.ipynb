{
 "cells": [
  {
   "cell_type": "markdown",
   "metadata": {},
   "source": [
    "# Sentiment analysis \n",
    "\n",
    "## 1. Textblob-FR\n",
    "\n",
    "Documentation: https://textblob.readthedocs.io/en/dev/\n",
    "\n",
    "### Imports"
   ]
  },
  {
   "cell_type": "code",
   "execution_count": 23,
   "metadata": {},
   "outputs": [
    {
     "name": "stdout",
     "output_type": "stream",
     "text": [
      "Analyse de la phrase : Ets VANDEN BOUDE s\n",
      "This text is neutral and perfectly objective.\n",
      "Analyse de la phrase : a\n",
      "This text is neutral and perfectly objective.\n",
      "Analyse de la phrase : *700, chaussée de Mons Anderlectit * Bruxelles 7 demandent : ELECTRICIENS QUALIFIES (installation basse tension) PLOMBIERS\n",
      "This text is 20% negative and perfectly objective.\n",
      "Analyse de la phrase : sachant conduire si possible MAGASINIERS (pour dépôt rue de la Roue) Place stable et d’avenir dans une firme en » continuelle expansion\n",
      "This text is 0% negative and 0.425% subjective.\n",
      "Analyse de la phrase : Bonne rémunération\n",
      "This text is 70% positive and 0.7% subjective.\n",
      "Analyse de la phrase : 13 SAMEDI 22 NOVEMBRE 1969 LE SOIE itt Devenir eccountant chez ITT, c'est être, en mesure, professionnellement, de prendre ses responsabilités\n",
      "This text is neutral and perfectly objective.\n",
      "Analyse de la phrase : C'est aussi savoir travailler en équipe\n",
      "This text is neutral and perfectly objective.\n",
      "Analyse de la phrase : Comme sait la faire une personnalité à la fols souple et dynamique\n",
      "This text is 5% positive and perfectly objective.\n",
      "Analyse de la phrase : Et sûre de se valeur\n",
      "This text is 20% positive and 0.5% subjective.\n",
      "Analyse de la phrase : Faut-Il Insister sur l'avenir offert ? Vous serez chez ITT, c'est tout dire\n",
      "This text is 22% positive and 0.1% subjective.\n",
      "Analyse de la phrase : DIMANCHE 16 LUNDI 17 FEVRIER 1969 LE SOIR ~rr~rr\n",
      "This text is neutral and perfectly objective.\n",
      "Analyse de la phrase : SOCIETE INDUSTRIELLE ' à Br'uxélles 3 ' JEUNE ELEMENT DE VALEUR Envoyés votre curr\n",
      "This text is 18% positive and 0.25% subjective.\n",
      "Analyse de la phrase : vitae manuscrit sous réf\n",
      "This text is neutral and perfectly objective.\n",
      "Analyse de la phrase : 154 à '« ‘si 'V v recherche ? ’-r 1 ' #•* \"% *■* ? ? A :: * 'f”\n",
      "This text is 10% positive and 0.6% subjective.\n",
      "Analyse de la phrase : GRADUAT EN SCIÈNCIÎSiECpNO^pÇS oy ^UiyAïiENT\n",
      "This text is neutral and perfectly objective.\n",
      "Analyse de la phrase : LE SOIR JEUDI 27 FEVRIER 1969 LE SOIR Quelle que soit l’heure à laquelle vous achetez «LE SOIR», réclamez au vendeur LA DERNIERE EDITION PARUE\n",
      "This text is 29% negative and 0.2% subjective.\n",
      "Analyse de la phrase : FENNY GIRL U n’y a pas de petits sujets quand on est orfèvre en sa partie et qu’on dispose de grands moyens\n",
      "This text is 8% positive and 0.13333333333333333% subjective.\n",
      "Analyse de la phrase : William Wyler, le réalisateur de Funny Girl, avait un carré d’as dans son jeu\n",
      "This text is neutral and perfectly objective.\n",
      "Analyse de la phrase : Son savoir-faire, d’abord, illustré par maints films à très large succès; ensuite une comédie musicale qui a tenu l’affiche pendant quatre ans, à Broadway; puis un budget\n",
      "This text is 10% positive and 0.20000000000000004% subjective.\n",
      "Analyse de la phrase : \n",
      "This text is neutral and perfectly objective.\n",
      "Analyse de la phrase : t ■« Roosevelt d* la Forêt, A la* app\n",
      "This text is neutral and perfectly objective.\n",
      "Analyse de la phrase : ht L Bit\n",
      "This text is neutral and perfectly objective.\n",
      "Analyse de la phrase : müq\n",
      "This text is neutral and perfectly objective.\n",
      "Analyse de la phrase : gr, S ter\n",
      "This text is neutral and perfectly objective.\n",
      "Analyse de la phrase : , placards ©rient, 2 ch\n",
      "This text is neutral and perfectly objective.\n",
      "Analyse de la phrase : LE SOIR -MARDI 29 AVÛIL 1-969V v\n",
      "This text is neutral and perfectly objective.\n",
      "Analyse de la phrase : * v- Une grande épreuve de vulgarisation et de prospection du tennis pour les jeunes XIII\" TOURNOI DE L’ESPERANCE A:/\n",
      "This text is 31% positive and 0.30000000000000004% subjective.\n",
      "Analyse de la phrase : ' v » ■■ ■ v ; • ,\n",
      "This text is neutral and perfectly objective.\n",
      "Analyse de la phrase : 1 » , ’ ■ ■ y , - Organisé par LE SOIR sous le contrôle de la Fédération Royale Belge de Laum-Tennis Plus et mieux : 267 éliminatoires pour 248, l'an dernier On peut dire que jusqu’au dernier moment, clubs et écoles de tous les coins de la Belgique ont multiplié leurs efforts pour être de la grande fête tennistique pour moins de 20 ans qu’est le Tournoi de l’Espérance\n",
      "This text is 9% positive and 0.2125% subjective.\n",
      "Analyse de la phrase : Rien n’a pu décourager organisateurs et concurrents, car il faut le souligner, jamais les conditions climatiques n’ont été aussi défavorables qu’en ce printemps Î rtuvieux\n",
      "This text is 35% negative and perfectly objective.\n",
      "Analyse de la phrase : LE S OIR MARDI 4 NOVEMBRE 1969 /■ i'\n",
      "This text is neutral and perfectly objective.\n",
      "Analyse de la phrase : Monsieur et Madame Jules DEGROOF, Madame Joseph DEGROOF, Madame Maurice ENGWEGEN, ses frère et belles-sœurs; Monsieur et Madame Jean BASTIN et leurs enfants\n",
      "This text is neutral and perfectly objective.\n",
      "Analyse de la phrase : Monsieur et Madame Marcel DEGROOF et leurs enfants\n",
      "This text is neutral and perfectly objective.\n",
      "Analyse de la phrase : Monsieur et Madame Jean-François DEGROOF et leurs enfants, tes neveux, nièces, petits-neveux et petites-nièces; Monsieur et Madame André VERHAEGEN, leurs enfants et petits-enfants, Monsieur Louis VERHAEGEN, ses enfants et petits-enfants\n",
      "This text is neutral and perfectly objective.\n",
      "Analyse de la phrase : Madame Georges DOPERE, Monsieur et Madame Robert DUBUS, ses cousins et cousines; Les familles DEGROOF et VERHOEVEN, Madame Mla DEYADDER, sa très dévouée gouvernante; Monsieur Maurice WAUTERS, son fidèle chauffeur; voua font part, avec une profonde douleur, qu'il a plu au Seigneur de rappeler a Lui l'âme de son fidèle serviteur MONSIEUR JEAN DEGROOF Banquier Associé-gérant de Messieurs Jean DEGROOF et C u (anct\n",
      "This text is 12% positive and 0.5375% subjective.\n",
      "Analyse de la phrase : MERCREDI 19 MARS 1969 LE SOIR 3 • I\n",
      "This text is neutral and perfectly objective.\n",
      "Analyse de la phrase : 'ACTUALITÉ INTERNATIONALE LES PAYS DU PACTE DE VARSOVIE proposent une conférence européenne (VOIR DEBUT EN PREMIERE PAGEJ Le communiqué final du « sommet » de Budapest « L’établissement de relations de bon voisinage, de la confiance et de la compréhension mutuelles, dépend de la volonté et des efforts des peuples et des gouvernements européens\n",
      "This text is 16% positive and 0.14999999999999997% subjective.\n",
      "Analyse de la phrase : L’Europe contemporaine, issue des traités conclus après la Deuxième Guerre mondiale, représentant une trentaine de grands et de petits Etats, différents par leur structure sociale, leur situation géographique et leurs intérêts, mais obligés de par leur passé de vivre côte à côte, fait que rien ne pourra changer\n",
      "This text is 12% positive and 0.1125% subjective.\n",
      "Analyse de la phrase : » Un nombre, tou jours plus grand de gouvernements,, de Parlèments, de partis et d’hommes d’Etat commencent à comprendre le sens de leur responsabilité face aux générations montantes, pour interdire en Europe tout conflit armé\n",
      "This text is 8% positive and 0.13999999999999999% subjective.\n",
      "Analyse de la phrase : » Mais il subsiste encore en Europe dès forces qui s’opposent à une solution des problèmes en suspens par la- voie des négociations, leur préférant la création de nouvelles forces armées, de fusées, de programmes militaires\n",
      "This text is 21% negative and 0.31000000000000005% subjective.\n",
      "Analyse de la phrase : I 10 ib sont VENDREDI Wt NOVEMBRE 1969 AVENUE fi'OftO $\n",
      "This text is neutral and perfectly objective.\n",
      "Analyse de la phrase : EA9an€ttracu>ttn *eoocn#< 'JUSTINE' OEUMMNtt DÜfWîlL AffôüK AIMEE^ OIRKBOGAROE/ROBEftTFORSTER ANNA KARINA'PHIUPPE NOIRET'MIGHAELVORK JOH\n",
      "This text is 40% positive and 0.4% subjective.\n",
      "Analyse de la phrase : NVEJ!SOS'lA(XAl6ERIS(Wi'KOft6£BW<£ft'M!CHMl DL’NX NBA Utt\n",
      "This text is neutral and perfectly objective.\n",
      "Analyse de la phrase : *J£C â«V\n",
      "This text is neutral and perfectly objective.\n",
      "Analyse de la phrase : ' etvoao S££RJ«K'6Ê0aÊE CUKOft^JêaRÏGOlBSM-\n",
      "This text is neutral and perfectly objective.\n",
      "Analyse de la phrase : FABRIQUE DE SALONS engage de suite REPRESENTANT Secteur : Anvers - Limbourg Nous demandons: — Agé de 25 k 40 an*\n",
      "This text is neutral and perfectly objective.\n",
      "Analyse de la phrase : — Dynamique — persévérant\n",
      "This text is neutral and perfectly objective.\n",
      "Analyse de la phrase : —- Disposant d’un véhicule en bon état\n",
      "This text is 70% positive and 0.7% subjective.\n",
      "Analyse de la phrase : *— Santé excellente\n",
      "This text is 50% positive and 0.9% subjective.\n",
      "Analyse de la phrase : — L’introduction serait un avantage\n",
      "This text is neutral and perfectly objective.\n"
     ]
    }
   ],
   "source": [
    "import sys\n",
    "from textblob import Blobber\n",
    "from textblob_fr import PatternTagger, PatternAnalyzer\n",
    "# Importer les bibliothèques nécessaires\n",
    "import os\n",
    "\n",
    "# Chemin vers les fichiers de l'année 1969\n",
    "year = 1969\n",
    "data_path = '../data/txt'\n",
    "txts = [f for f in os.listdir(data_path) if os.path.isfile(os.path.join(data_path, f)) and str(year) in f]\n",
    "\n",
    "# Sélectionner arbitrairement 10 phrases dans les articles de l'année 1969\n",
    "selected_phrases = []\n",
    "for txt in txts[:10]:\n",
    "    with open(os.path.join(data_path, txt), 'r', encoding='utf-8') as f:\n",
    "        content = f.read()\n",
    "        sentences = content.split('.')\n",
    "        for sentence in sentences[:5]:\n",
    "            selected_phrases.append(sentence.strip())\n",
    "\n",
    "# Analyser le sentiment des phrases sélectionnées\n",
    "for phrase in selected_phrases:\n",
    "    print(f\"Analyse de la phrase : {phrase}\")\n",
    "    get_sentiment(phrase)\n",
    "    sentiment_analyser(phrase)\n",
    "\n",
    "\n"
   ]
  },
  {
   "cell_type": "markdown",
   "metadata": {},
   "source": [
    "### Création d'une fonction `get_sentiment`"
   ]
  },
  {
   "cell_type": "code",
   "execution_count": 25,
   "metadata": {},
   "outputs": [],
   "source": [
    "tb = Blobber(pos_tagger=PatternTagger(), analyzer=PatternAnalyzer())\n",
    "\n",
    "def get_sentiment(input_text):\n",
    "    blob = tb(input_text)\n",
    "    polarity, subjectivity = blob.sentiment\n",
    "    polarity_perc = f\"{100*abs(polarity):.0f}\"\n",
    "    subjectivity_perc = f\"{100*subjectivity:.0f}\"\n",
    "    if polarity > 0:\n",
    "        polarity_str = f\"{polarity_perc}% positive\"\n",
    "    elif polarity < 0:\n",
    "        polarity_str = f\"{polarity_perc}% negative\"\n",
    "    else:\n",
    "        polarity_str = \"neutral\"\n",
    "    if subjectivity > 0:\n",
    "        subjectivity_str = f\"{subjectivity}% subjective\"\n",
    "    else:\n",
    "        subjectivity_str = \"perfectly objective\"\n",
    "    print(f\"This text is {polarity_str} and {subjectivity_str}.\")\n"
   ]
  },
  {
   "cell_type": "markdown",
   "metadata": {},
   "source": [
    "### Analyser le sentiment d'une phrase"
   ]
  },
  {
   "cell_type": "code",
   "execution_count": 26,
   "metadata": {
    "tags": []
   },
   "outputs": [
    {
     "name": "stdout",
     "output_type": "stream",
     "text": [
      "This text is 65% positive and 0.75% subjective.\n"
     ]
    }
   ],
   "source": [
    "get_sentiment(\"Ce journal est vraiment super intéressant.\")"
   ]
  },
  {
   "cell_type": "code",
   "execution_count": 18,
   "metadata": {
    "tags": []
   },
   "outputs": [
    {
     "name": "stdout",
     "output_type": "stream",
     "text": [
      "This text is 41% negative and 0.6% subjective.\n"
     ]
    }
   ],
   "source": [
    "get_sentiment(\"Cette phrase est négative et je ne suis pas content !\")"
   ]
  },
  {
   "cell_type": "markdown",
   "metadata": {},
   "source": [
    "## 2. Utilisation de transformers\n",
    "\n",
    "Documentation: https://github.com/TheophileBlard/french-sentiment-analysis-with-bert\n",
    "\n",
    "**!!** Si le code ne tourne pas sur votre machine, vous pouvez le tester directement sur Google Colab en utilisant [ce lien](https://colab.research.google.com/github/TheophileBlard/french-sentiment-analysis-with-bert/blob/master/colab/french_sentiment_analysis_with_bert.ipynb) **!!**\n",
    "\n",
    "Le modèle peut également être testé en ligne sur [HuggingFace](https://huggingface.co/tblard/tf-allocine)\n",
    "\n",
    "### Installation des librairies et imports"
   ]
  },
  {
   "cell_type": "code",
   "execution_count": 19,
   "metadata": {},
   "outputs": [
    {
     "name": "stderr",
     "output_type": "stream",
     "text": [
      "huggingface/tokenizers: The current process just got forked, after parallelism has already been used. Disabling parallelism to avoid deadlocks...\n",
      "To disable this warning, you can either:\n",
      "\t- Avoid using `tokenizers` before the fork if possible\n",
      "\t- Explicitly set the environment variable TOKENIZERS_PARALLELISM=(true | false)\n"
     ]
    },
    {
     "name": "stdout",
     "output_type": "stream",
     "text": [
      "Requirement already satisfied: tensorflow in /Users/apple/Documents/tac/tac_venv/lib/python3.11/site-packages (2.14.0)\n",
      "Requirement already satisfied: absl-py>=1.0.0 in /Users/apple/Documents/tac/tac_venv/lib/python3.11/site-packages (from tensorflow) (2.0.0)\n",
      "Requirement already satisfied: astunparse>=1.6.0 in /Users/apple/Documents/tac/tac_venv/lib/python3.11/site-packages (from tensorflow) (1.6.3)\n",
      "Requirement already satisfied: flatbuffers>=23.5.26 in /Users/apple/Documents/tac/tac_venv/lib/python3.11/site-packages (from tensorflow) (23.5.26)\n",
      "Requirement already satisfied: gast!=0.5.0,!=0.5.1,!=0.5.2,>=0.2.1 in /Users/apple/Documents/tac/tac_venv/lib/python3.11/site-packages (from tensorflow) (0.5.4)\n",
      "Requirement already satisfied: google-pasta>=0.1.1 in /Users/apple/Documents/tac/tac_venv/lib/python3.11/site-packages (from tensorflow) (0.2.0)\n",
      "Requirement already satisfied: h5py>=2.9.0 in /Users/apple/Documents/tac/tac_venv/lib/python3.11/site-packages (from tensorflow) (3.10.0)\n",
      "Requirement already satisfied: libclang>=13.0.0 in /Users/apple/Documents/tac/tac_venv/lib/python3.11/site-packages (from tensorflow) (16.0.6)\n",
      "Requirement already satisfied: ml-dtypes==0.2.0 in /Users/apple/Documents/tac/tac_venv/lib/python3.11/site-packages (from tensorflow) (0.2.0)\n",
      "Requirement already satisfied: numpy>=1.23.5 in /Users/apple/Documents/tac/tac_venv/lib/python3.11/site-packages (from tensorflow) (1.26.0)\n",
      "Requirement already satisfied: opt-einsum>=2.3.2 in /Users/apple/Documents/tac/tac_venv/lib/python3.11/site-packages (from tensorflow) (3.3.0)\n",
      "Requirement already satisfied: packaging in /Users/apple/Documents/tac/tac_venv/lib/python3.11/site-packages (from tensorflow) (23.2)\n",
      "Requirement already satisfied: protobuf!=4.21.0,!=4.21.1,!=4.21.2,!=4.21.3,!=4.21.4,!=4.21.5,<5.0.0dev,>=3.20.3 in /Users/apple/Documents/tac/tac_venv/lib/python3.11/site-packages (from tensorflow) (4.24.4)\n",
      "Requirement already satisfied: setuptools in /Users/apple/Documents/tac/tac_venv/lib/python3.11/site-packages (from tensorflow) (65.5.0)\n",
      "Requirement already satisfied: six>=1.12.0 in /Users/apple/Documents/tac/tac_venv/lib/python3.11/site-packages (from tensorflow) (1.12.0)\n",
      "Requirement already satisfied: termcolor>=1.1.0 in /Users/apple/Documents/tac/tac_venv/lib/python3.11/site-packages (from tensorflow) (2.3.0)\n",
      "Requirement already satisfied: typing-extensions>=3.6.6 in /Users/apple/Documents/tac/tac_venv/lib/python3.11/site-packages (from tensorflow) (4.8.0)\n",
      "Requirement already satisfied: wrapt<1.15,>=1.11.0 in /Users/apple/Documents/tac/tac_venv/lib/python3.11/site-packages (from tensorflow) (1.14.1)\n",
      "Requirement already satisfied: tensorflow-io-gcs-filesystem>=0.23.1 in /Users/apple/Documents/tac/tac_venv/lib/python3.11/site-packages (from tensorflow) (0.34.0)\n",
      "Requirement already satisfied: grpcio<2.0,>=1.24.3 in /Users/apple/Documents/tac/tac_venv/lib/python3.11/site-packages (from tensorflow) (1.59.0)\n",
      "Requirement already satisfied: tensorboard<2.15,>=2.14 in /Users/apple/Documents/tac/tac_venv/lib/python3.11/site-packages (from tensorflow) (2.14.1)\n",
      "Requirement already satisfied: tensorflow-estimator<2.15,>=2.14.0 in /Users/apple/Documents/tac/tac_venv/lib/python3.11/site-packages (from tensorflow) (2.14.0)\n",
      "Requirement already satisfied: keras<2.15,>=2.14.0 in /Users/apple/Documents/tac/tac_venv/lib/python3.11/site-packages (from tensorflow) (2.14.0)\n",
      "Requirement already satisfied: wheel<1.0,>=0.23.0 in /Users/apple/Documents/tac/tac_venv/lib/python3.11/site-packages (from astunparse>=1.6.0->tensorflow) (0.41.2)\n",
      "Requirement already satisfied: google-auth<3,>=1.6.3 in /Users/apple/Documents/tac/tac_venv/lib/python3.11/site-packages (from tensorboard<2.15,>=2.14->tensorflow) (2.23.3)\n",
      "Requirement already satisfied: google-auth-oauthlib<1.1,>=0.5 in /Users/apple/Documents/tac/tac_venv/lib/python3.11/site-packages (from tensorboard<2.15,>=2.14->tensorflow) (1.0.0)\n",
      "Requirement already satisfied: markdown>=2.6.8 in /Users/apple/Documents/tac/tac_venv/lib/python3.11/site-packages (from tensorboard<2.15,>=2.14->tensorflow) (3.5)\n",
      "Requirement already satisfied: requests<3,>=2.21.0 in /Users/apple/Documents/tac/tac_venv/lib/python3.11/site-packages (from tensorboard<2.15,>=2.14->tensorflow) (2.31.0)\n",
      "Requirement already satisfied: tensorboard-data-server<0.8.0,>=0.7.0 in /Users/apple/Documents/tac/tac_venv/lib/python3.11/site-packages (from tensorboard<2.15,>=2.14->tensorflow) (0.7.2)\n",
      "Requirement already satisfied: werkzeug>=1.0.1 in /Users/apple/Documents/tac/tac_venv/lib/python3.11/site-packages (from tensorboard<2.15,>=2.14->tensorflow) (3.0.0)\n",
      "Requirement already satisfied: cachetools<6.0,>=2.0.0 in /Users/apple/Documents/tac/tac_venv/lib/python3.11/site-packages (from google-auth<3,>=1.6.3->tensorboard<2.15,>=2.14->tensorflow) (5.3.2)\n",
      "Requirement already satisfied: pyasn1-modules>=0.2.1 in /Users/apple/Documents/tac/tac_venv/lib/python3.11/site-packages (from google-auth<3,>=1.6.3->tensorboard<2.15,>=2.14->tensorflow) (0.3.0)\n",
      "Requirement already satisfied: rsa<5,>=3.1.4 in /Users/apple/Documents/tac/tac_venv/lib/python3.11/site-packages (from google-auth<3,>=1.6.3->tensorboard<2.15,>=2.14->tensorflow) (4.9)\n",
      "Requirement already satisfied: requests-oauthlib>=0.7.0 in /Users/apple/Documents/tac/tac_venv/lib/python3.11/site-packages (from google-auth-oauthlib<1.1,>=0.5->tensorboard<2.15,>=2.14->tensorflow) (1.3.1)\n",
      "Requirement already satisfied: charset-normalizer<4,>=2 in /Users/apple/Documents/tac/tac_venv/lib/python3.11/site-packages (from requests<3,>=2.21.0->tensorboard<2.15,>=2.14->tensorflow) (3.3.0)\n",
      "Requirement already satisfied: idna<4,>=2.5 in /Users/apple/Documents/tac/tac_venv/lib/python3.11/site-packages (from requests<3,>=2.21.0->tensorboard<2.15,>=2.14->tensorflow) (3.4)\n",
      "Requirement already satisfied: urllib3<3,>=1.21.1 in /Users/apple/Documents/tac/tac_venv/lib/python3.11/site-packages (from requests<3,>=2.21.0->tensorboard<2.15,>=2.14->tensorflow) (2.0.6)\n",
      "Requirement already satisfied: certifi>=2017.4.17 in /Users/apple/Documents/tac/tac_venv/lib/python3.11/site-packages (from requests<3,>=2.21.0->tensorboard<2.15,>=2.14->tensorflow) (2023.7.22)\n",
      "Requirement already satisfied: MarkupSafe>=2.1.1 in /Users/apple/Documents/tac/tac_venv/lib/python3.11/site-packages (from werkzeug>=1.0.1->tensorboard<2.15,>=2.14->tensorflow) (2.1.3)\n",
      "Requirement already satisfied: pyasn1<0.6.0,>=0.4.6 in /Users/apple/Documents/tac/tac_venv/lib/python3.11/site-packages (from pyasn1-modules>=0.2.1->google-auth<3,>=1.6.3->tensorboard<2.15,>=2.14->tensorflow) (0.5.0)\n",
      "Requirement already satisfied: oauthlib>=3.0.0 in /Users/apple/Documents/tac/tac_venv/lib/python3.11/site-packages (from requests-oauthlib>=0.7.0->google-auth-oauthlib<1.1,>=0.5->tensorboard<2.15,>=2.14->tensorflow) (3.2.2)\n",
      "\u001b[33mDEPRECATION: textract 1.6.5 has a non-standard dependency specifier extract-msg<=0.29.*. pip 23.3 will enforce this behaviour change. A possible replacement is to upgrade to a newer version of textract or contact the author to suggest that they release a version with a conforming dependency specifiers. Discussion can be found at https://github.com/pypa/pip/issues/12063\u001b[0m\u001b[33m\n",
      "\u001b[0m\n",
      "\u001b[1m[\u001b[0m\u001b[34;49mnotice\u001b[0m\u001b[1;39;49m]\u001b[0m\u001b[39;49m A new release of pip is available: \u001b[0m\u001b[31;49m23.2.1\u001b[0m\u001b[39;49m -> \u001b[0m\u001b[32;49m23.3.1\u001b[0m\n",
      "\u001b[1m[\u001b[0m\u001b[34;49mnotice\u001b[0m\u001b[1;39;49m]\u001b[0m\u001b[39;49m To update, run: \u001b[0m\u001b[32;49mpip install --upgrade pip\u001b[0m\n"
     ]
    },
    {
     "name": "stderr",
     "output_type": "stream",
     "text": [
      "huggingface/tokenizers: The current process just got forked, after parallelism has already been used. Disabling parallelism to avoid deadlocks...\n",
      "To disable this warning, you can either:\n",
      "\t- Avoid using `tokenizers` before the fork if possible\n",
      "\t- Explicitly set the environment variable TOKENIZERS_PARALLELISM=(true | false)\n"
     ]
    },
    {
     "name": "stdout",
     "output_type": "stream",
     "text": [
      "Requirement already satisfied: sentencepiece in /Users/apple/Documents/tac/tac_venv/lib/python3.11/site-packages (0.1.99)\n",
      "\u001b[33mDEPRECATION: textract 1.6.5 has a non-standard dependency specifier extract-msg<=0.29.*. pip 23.3 will enforce this behaviour change. A possible replacement is to upgrade to a newer version of textract or contact the author to suggest that they release a version with a conforming dependency specifiers. Discussion can be found at https://github.com/pypa/pip/issues/12063\u001b[0m\u001b[33m\n",
      "\u001b[0m\n",
      "\u001b[1m[\u001b[0m\u001b[34;49mnotice\u001b[0m\u001b[1;39;49m]\u001b[0m\u001b[39;49m A new release of pip is available: \u001b[0m\u001b[31;49m23.2.1\u001b[0m\u001b[39;49m -> \u001b[0m\u001b[32;49m23.3.1\u001b[0m\n",
      "\u001b[1m[\u001b[0m\u001b[34;49mnotice\u001b[0m\u001b[1;39;49m]\u001b[0m\u001b[39;49m To update, run: \u001b[0m\u001b[32;49mpip install --upgrade pip\u001b[0m\n"
     ]
    },
    {
     "name": "stderr",
     "output_type": "stream",
     "text": [
      "huggingface/tokenizers: The current process just got forked, after parallelism has already been used. Disabling parallelism to avoid deadlocks...\n",
      "To disable this warning, you can either:\n",
      "\t- Avoid using `tokenizers` before the fork if possible\n",
      "\t- Explicitly set the environment variable TOKENIZERS_PARALLELISM=(true | false)\n"
     ]
    },
    {
     "name": "stdout",
     "output_type": "stream",
     "text": [
      "Requirement already satisfied: transformers in /Users/apple/Documents/tac/tac_venv/lib/python3.11/site-packages (4.34.1)\n",
      "Requirement already satisfied: filelock in /Users/apple/Documents/tac/tac_venv/lib/python3.11/site-packages (from transformers) (3.12.4)\n",
      "Requirement already satisfied: huggingface-hub<1.0,>=0.16.4 in /Users/apple/Documents/tac/tac_venv/lib/python3.11/site-packages (from transformers) (0.17.3)\n",
      "Requirement already satisfied: numpy>=1.17 in /Users/apple/Documents/tac/tac_venv/lib/python3.11/site-packages (from transformers) (1.26.0)\n",
      "Requirement already satisfied: packaging>=20.0 in /Users/apple/Documents/tac/tac_venv/lib/python3.11/site-packages (from transformers) (23.2)\n",
      "Requirement already satisfied: pyyaml>=5.1 in /Users/apple/Documents/tac/tac_venv/lib/python3.11/site-packages (from transformers) (6.0.1)\n",
      "Requirement already satisfied: regex!=2019.12.17 in /Users/apple/Documents/tac/tac_venv/lib/python3.11/site-packages (from transformers) (2023.10.3)\n",
      "Requirement already satisfied: requests in /Users/apple/Documents/tac/tac_venv/lib/python3.11/site-packages (from transformers) (2.31.0)\n",
      "Requirement already satisfied: tokenizers<0.15,>=0.14 in /Users/apple/Documents/tac/tac_venv/lib/python3.11/site-packages (from transformers) (0.14.1)\n",
      "Requirement already satisfied: safetensors>=0.3.1 in /Users/apple/Documents/tac/tac_venv/lib/python3.11/site-packages (from transformers) (0.4.0)\n",
      "Requirement already satisfied: tqdm>=4.27 in /Users/apple/Documents/tac/tac_venv/lib/python3.11/site-packages (from transformers) (4.66.1)\n",
      "Requirement already satisfied: fsspec in /Users/apple/Documents/tac/tac_venv/lib/python3.11/site-packages (from huggingface-hub<1.0,>=0.16.4->transformers) (2023.10.0)\n",
      "Requirement already satisfied: typing-extensions>=3.7.4.3 in /Users/apple/Documents/tac/tac_venv/lib/python3.11/site-packages (from huggingface-hub<1.0,>=0.16.4->transformers) (4.8.0)\n",
      "Requirement already satisfied: charset-normalizer<4,>=2 in /Users/apple/Documents/tac/tac_venv/lib/python3.11/site-packages (from requests->transformers) (3.3.0)\n",
      "Requirement already satisfied: idna<4,>=2.5 in /Users/apple/Documents/tac/tac_venv/lib/python3.11/site-packages (from requests->transformers) (3.4)\n",
      "Requirement already satisfied: urllib3<3,>=1.21.1 in /Users/apple/Documents/tac/tac_venv/lib/python3.11/site-packages (from requests->transformers) (2.0.6)\n",
      "Requirement already satisfied: certifi>=2017.4.17 in /Users/apple/Documents/tac/tac_venv/lib/python3.11/site-packages (from requests->transformers) (2023.7.22)\n",
      "\u001b[33mDEPRECATION: textract 1.6.5 has a non-standard dependency specifier extract-msg<=0.29.*. pip 23.3 will enforce this behaviour change. A possible replacement is to upgrade to a newer version of textract or contact the author to suggest that they release a version with a conforming dependency specifiers. Discussion can be found at https://github.com/pypa/pip/issues/12063\u001b[0m\u001b[33m\n",
      "\u001b[0m\n",
      "\u001b[1m[\u001b[0m\u001b[34;49mnotice\u001b[0m\u001b[1;39;49m]\u001b[0m\u001b[39;49m A new release of pip is available: \u001b[0m\u001b[31;49m23.2.1\u001b[0m\u001b[39;49m -> \u001b[0m\u001b[32;49m23.3.1\u001b[0m\n",
      "\u001b[1m[\u001b[0m\u001b[34;49mnotice\u001b[0m\u001b[1;39;49m]\u001b[0m\u001b[39;49m To update, run: \u001b[0m\u001b[32;49mpip install --upgrade pip\u001b[0m\n"
     ]
    }
   ],
   "source": [
    "!pip install tensorflow\n",
    "!pip install sentencepiece\n",
    "!pip install transformers\n",
    "\n",
    "from transformers import AutoTokenizer, TFAutoModelForSequenceClassification\n",
    "from transformers import pipeline"
   ]
  },
  {
   "cell_type": "markdown",
   "metadata": {},
   "source": [
    "### Chargement du modèle"
   ]
  },
  {
   "cell_type": "code",
   "execution_count": 20,
   "metadata": {},
   "outputs": [
    {
     "name": "stderr",
     "output_type": "stream",
     "text": [
      "All model checkpoint layers were used when initializing TFCamembertForSequenceClassification.\n",
      "\n",
      "All the layers of TFCamembertForSequenceClassification were initialized from the model checkpoint at tblard/tf-allocine.\n",
      "If your task is similar to the task the model of the checkpoint was trained on, you can already use TFCamembertForSequenceClassification for predictions without further training.\n"
     ]
    }
   ],
   "source": [
    "tokenizer = AutoTokenizer.from_pretrained(\"tblard/tf-allocine\", use_pt=True)\n",
    "model = TFAutoModelForSequenceClassification.from_pretrained(\"tblard/tf-allocine\")\n",
    "\n",
    "sentiment_analyser = pipeline('sentiment-analysis', model=model, tokenizer=tokenizer)\n"
   ]
  },
  {
   "cell_type": "markdown",
   "metadata": {},
   "source": [
    "### Analyser le sentiment d'une phrase"
   ]
  },
  {
   "cell_type": "code",
   "execution_count": 21,
   "metadata": {},
   "outputs": [
    {
     "data": {
      "text/plain": [
       "[{'label': 'POSITIVE', 'score': 0.9936434030532837}]"
      ]
     },
     "execution_count": 21,
     "metadata": {},
     "output_type": "execute_result"
    }
   ],
   "source": [
    "sentiment_analyser(\"Ce journal est vraiment super intéressant.\")"
   ]
  },
  {
   "cell_type": "code",
   "execution_count": 22,
   "metadata": {},
   "outputs": [
    {
     "data": {
      "text/plain": [
       "[{'label': 'NEGATIVE', 'score': 0.9664189219474792}]"
      ]
     },
     "execution_count": 22,
     "metadata": {},
     "output_type": "execute_result"
    }
   ],
   "source": [
    "sentiment_analyser(\"Cette phrase est négative et je ne suis pas content !\")"
   ]
  }
 ],
 "metadata": {
  "kernelspec": {
   "display_name": "Python 3.10.5 ('tac_venv': venv)",
   "language": "python",
   "name": "python3"
  },
  "language_info": {
   "codemirror_mode": {
    "name": "ipython",
    "version": 3
   },
   "file_extension": ".py",
   "mimetype": "text/x-python",
   "name": "python",
   "nbconvert_exporter": "python",
   "pygments_lexer": "ipython3",
   "version": "3.11.6"
  },
  "vscode": {
   "interpreter": {
    "hash": "b1932ab1d169b4769d1550e799423b6477588e745f266d79d9004c136c81607e"
   }
  }
 },
 "nbformat": 4,
 "nbformat_minor": 4
}
