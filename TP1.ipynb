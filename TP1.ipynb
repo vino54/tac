{
 "cells": [
  {
   "cell_type": "markdown",
   "metadata": {},
   "source": [
    "# Bases de connaissance : interroger Wikidata à l'aide de requêtes SPARQL"
   ]
  },
  {
   "cell_type": "markdown",
   "metadata": {},
   "source": [
    "## Imports"
   ]
  },
  {
   "cell_type": "code",
   "execution_count": 1,
   "metadata": {},
   "outputs": [],
   "source": [
    "from datetime import datetime as dt\n",
    "from SPARQLWrapper import SPARQLWrapper, JSON"
   ]
  },
  {
   "cell_type": "code",
   "execution_count": 2,
   "metadata": {},
   "outputs": [
    {
     "name": "stdout",
     "output_type": "stream",
     "text": [
      "Name: Julian Assange, Birth Date: 1971-07-03T00:00:00Z\n",
      "Name: Yanka Kupala, Birth Date: 1882-07-07T00:00:00Z\n",
      "Name: Bill Maher, Birth Date: 1956-01-20T00:00:00Z\n",
      "Name: Charles Baudelaire, Birth Date: 1821-04-09T00:00:00Z\n",
      "Name: Émile Zola, Birth Date: 1840-04-02T00:00:00Z\n",
      "Name: Rachel Maddow, Birth Date: 1973-04-01T00:00:00Z\n",
      "Name: Frédéric Taddeï, Birth Date: 1961-01-05T00:00:00Z\n",
      "Name: Ezra Klein, Birth Date: 1984-05-09T00:00:00Z\n",
      "Name: Mikhail Bulgakov, Birth Date: 1891-05-15T00:00:00Z\n",
      "Name: Fyodor Dostoyevsky, Birth Date: 1821-11-11T00:00:00Z\n"
     ]
    }
   ],
   "source": [
    "import requests\n",
    "\n",
    "def fetch_journalists():\n",
    "    url = 'https://query.wikidata.org/sparql'\n",
    "    query = '''\n",
    "    SELECT ?journalist ?journalistLabel ?birthDate WHERE {\n",
    "      ?journalist wdt:P106 wd:Q1930187.\n",
    "      OPTIONAL { ?journalist wdt:P569 ?birthDate. }\n",
    "      SERVICE wikibase:label { bd:serviceParam wikibase:language \"[AUTO_LANGUAGE],en\". }\n",
    "    }\n",
    "    LIMIT 10\n",
    "    '''\n",
    "    headers = {\n",
    "        'User-Agent': 'SPARQL Query Example Python/1.0 (https://example.com)'\n",
    "    }\n",
    "    response = requests.get(url, params={'query': query, 'format': 'json'}, headers=headers)\n",
    "    data = response.json()\n",
    "    \n",
    "    results = data['results']['bindings']\n",
    "    for result in results:\n",
    "        name = result['journalistLabel']['value']\n",
    "        birth_date = result.get('birthDate', {}).get('value', 'Unknown')\n",
    "        print(f'Name: {name}, Birth Date: {birth_date}')\n",
    "\n",
    "if __name__ == '__main__':\n",
    "    fetch_journalists()\n"
   ]
  }
 ],
 "metadata": {
  "kernelspec": {
   "display_name": "Python 3.10.5 ('venv_tac': venv)",
   "language": "python",
   "name": "python3"
  },
  "language_info": {
   "codemirror_mode": {
    "name": "ipython",
    "version": 3
   },
   "file_extension": ".py",
   "mimetype": "text/x-python",
   "name": "python",
   "nbconvert_exporter": "python",
   "pygments_lexer": "ipython3",
   "version": "3.12.4"
  },
  "vscode": {
   "interpreter": {
    "hash": "a942b0119f0c2604d4302f32a2a6e790f63eb4c9b0c297be7a26bd56fa8e02c6"
   }
  }
 },
 "nbformat": 4,
 "nbformat_minor": 4
}
