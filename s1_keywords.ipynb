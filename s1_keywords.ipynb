{
 "cells": [
  {
   "cell_type": "markdown",
   "metadata": {},
   "source": [
    "# Extraction de Keywords"
   ]
  },
  {
   "cell_type": "markdown",
   "metadata": {},
   "source": [
    "## Imports"
   ]
  },
  {
   "cell_type": "code",
   "execution_count": 2,
   "metadata": {},
   "outputs": [],
   "source": [
    "import os\n",
    "import yake"
   ]
  },
  {
   "cell_type": "markdown",
   "metadata": {},
   "source": [
    "## Extraire les mots clés d'un document avec Yake"
   ]
  },
  {
   "cell_type": "markdown",
   "metadata": {},
   "source": [
    "https://github.com/LIAAD/yake"
   ]
  },
  {
   "cell_type": "code",
   "execution_count": 3,
   "metadata": {},
   "outputs": [
    {
     "data": {
      "text/plain": [
       "<yake.yake.KeywordExtractor at 0x10f0e8bd0>"
      ]
     },
     "execution_count": 3,
     "metadata": {},
     "output_type": "execute_result"
    }
   ],
   "source": [
    "# Instantier l'extracteur de mots clés\n",
    "kw_extractor = yake.KeywordExtractor(lan=\"fr\", top=50)\n",
    "kw_extractor"
   ]
  },
  {
   "cell_type": "code",
   "execution_count": 4,
   "metadata": {},
   "outputs": [],
   "source": [
    "# Lister les Fichiers\n",
    "data_path = \"../data/txt/\"\n",
    "files = os.listdir(data_path)"
   ]
  },
  {
   "cell_type": "code",
   "execution_count": 5,
   "metadata": {},
   "outputs": [
    {
     "data": {
      "text/plain": [
       "7936"
      ]
     },
     "execution_count": 5,
     "metadata": {},
     "output_type": "execute_result"
    }
   ],
   "source": [
    "# Imprimer le nombre de fichiers identifiés\n",
    "len(files)"
   ]
  },
  {
   "cell_type": "code",
   "execution_count": 6,
   "metadata": {},
   "outputs": [
    {
     "data": {
      "text/plain": [
       "['KB_JB838_1906-11-12_01-00004.txt',\n",
       " 'KB_JB838_1970-06-13_01-00012.txt',\n",
       " 'KB_JB838_1922-01-02_01-00007.txt',\n",
       " 'KB_JB838_1952-02-29_01-00010.txt',\n",
       " 'KB_JB838_1960-10-30_01-00007.txt',\n",
       " 'KB_JB838_1966-08-30_01-00011.txt',\n",
       " 'KB_JB838_1923-07-29_01-00003.txt',\n",
       " 'KB_JB838_1893-11-28_01-00004.txt',\n",
       " 'KB_JB838_1932-06-03_01-00011.txt',\n",
       " 'KB_JB838_1961-12-30_01-00015.txt']"
      ]
     },
     "execution_count": 6,
     "metadata": {},
     "output_type": "execute_result"
    }
   ],
   "source": [
    "# Les dix premiers fichiers\n",
    "files[:10]"
   ]
  },
  {
   "cell_type": "code",
   "execution_count": 7,
   "metadata": {},
   "outputs": [
    {
     "data": {
      "text/plain": [
       "'KB_JB838_1906-11-12_01-00004.txt'"
      ]
     },
     "execution_count": 7,
     "metadata": {},
     "output_type": "execute_result"
    }
   ],
   "source": [
    "# Choisir un fichier\n",
    "this_file = files[0]\n",
    "this_file"
   ]
  },
  {
   "cell_type": "code",
   "execution_count": 8,
   "metadata": {},
   "outputs": [
    {
     "data": {
      "text/plain": [
       "\"mi imnri r i «i i HMU ' î/tx-'l : Marché tenu hors villa, la 9. — U a été vaain Si téicj »M races indigènes de fr. 31<) à 5S'k 131 de. rasa îicHaKdui'te, do (r. 3S0 h 710. taureaux iallsènas,>ia ù\\\\ — à — ; 0II. hollandais, dufr. 0. — à 9.— la îdto- Vachei laitières: Bn vante 1Q. vendues 3\\\\ au prix la 410 à • «i h\\\\; génisses, Kl. '.9. i l. 2 i. id. da 370 i 6lütr. Marché a<u porcs. — Catégorie de lt ilashtya: ‘237 on vente; vendus 1 M.do ‘2 i.— à ;:, L —;i.l. des t'innlroV- I3ie;» vente, vendus 9\""
      ]
     },
     "execution_count": 8,
     "metadata": {},
     "output_type": "execute_result"
    }
   ],
   "source": [
    "# Récupérer le texte du fichier\n",
    "text = open(os.path.join(data_path, this_file), 'r', encoding='utf-8').read()\n",
    "text[:500]"
   ]
  },
  {
   "cell_type": "code",
   "execution_count": 9,
   "metadata": {},
   "outputs": [
    {
     "data": {
      "text/plain": [
       "[('maison', 0.003077658230936859),\n",
       " ('rue', 0.0030922660251063282),\n",
       " ('Maison de rentier', 0.007451367309712659),\n",
       " ('Bruxelles', 0.00835766510324691),\n",
       " ('Maison de commerce', 0.008414175763105169),\n",
       " ('contenant', 0.010937362215490024),\n",
       " ('centiares', 0.012015936317427473),\n",
       " ('Demain lundi', 0.012279832515679162),\n",
       " ('notaire', 0.0123644825432676),\n",
       " ('Vendue', 0.016154270207986227),\n",
       " ('louée', 0.01619773308081534),\n",
       " ('lundi', 0.0163930958621132),\n",
       " ('prix', 0.018093579312602026),\n",
       " ('rentier', 0.019894369366872527),\n",
       " ('are', 0.020215747658765645),\n",
       " ('commerce', 0.02922268570960821),\n",
       " ('ruo', 0.032678799542358944),\n",
       " ('lieu', 0.03290812001961487),\n",
       " ('rue Haute', 0.0371357795514965),\n",
       " ('demain lundi Carmen', 0.037591252103167105),\n",
       " ('rue Gallait', 0.03767923417337973),\n",
       " ('Froment', 0.03780746434234731),\n",
       " ('Notaires', 0.0391541947203474),\n",
       " ('heures', 0.0397856549783574),\n",
       " ('maison mortuaire', 0.04283100128039825),\n",
       " ('Demain', 0.04598612822626426),\n",
       " ('Portée', 0.04684343739163711),\n",
       " ('rue des Foulons', 0.05001351044082737),\n",
       " ('Grand', 0.05226799929542502),\n",
       " ('ares', 0.05256094391279068),\n",
       " ('Notaire Van', 0.05315813361372486),\n",
       " ('novembre', 0.054069631759074546),\n",
       " ('Antoinette', 0.05451233183112977),\n",
       " ('façade', 0.0548678062379408),\n",
       " ('soir', 0.058835484480497816),\n",
       " ('maisons qu’elle', 0.058950226506789216),\n",
       " ('d’une maison', 0.06138185502499655),\n",
       " ('jeune', 0.06348307909705884),\n",
       " ('rue Villa Hermosa', 0.06398895017145759),\n",
       " ('mort', 0.06565624946914618),\n",
       " ('HMU', 0.06790146509921824),\n",
       " ('paumer', 0.06826856904611513),\n",
       " ('Monsieur', 0.06869404925106176),\n",
       " ('d’une', 0.0688311955177894),\n",
       " ('c’est', 0.07328324293975098),\n",
       " ('demande', 0.0738305179776643),\n",
       " ('rue Villa', 0.07539889674235328),\n",
       " ('qu’elle', 0.0772989656667203),\n",
       " ('l’école', 0.07786285461286527),\n",
       " ('SUPERBE MAISON', 0.0783333471903087)]"
      ]
     },
     "execution_count": 9,
     "metadata": {},
     "output_type": "execute_result"
    }
   ],
   "source": [
    "# Extraire les mots clés de ce texte\n",
    "keywords = kw_extractor.extract_keywords(text)\n",
    "keywords"
   ]
  },
  {
   "cell_type": "code",
   "execution_count": 10,
   "metadata": {},
   "outputs": [
    {
     "data": {
      "text/plain": [
       "[]"
      ]
     },
     "execution_count": 10,
     "metadata": {},
     "output_type": "execute_result"
    }
   ],
   "source": [
    "# Ne garder que les mots-clés relatifs à l'année 1969\n",
    "kept = []\n",
    "for kw, score in keywords:\n",
    "    if '1969' in kw:\n",
    "        kept.append(kw)\n",
    "kept"
   ]
  },
  {
   "cell_type": "markdown",
   "metadata": {},
   "source": [
    "## Faire la même opération sur tous les documents"
   ]
  },
  {
   "cell_type": "code",
   "execution_count": 11,
   "metadata": {},
   "outputs": [
    {
     "name": "stdout",
     "output_type": "stream",
     "text": [
      "KB_JB838_1887-12-22_01-00001.txt mentions these keywords related to 1969: ...\n",
      "KB_JB838_1887-12-22_01-00002.txt mentions these keywords related to 1969: ...\n",
      "KB_JB838_1887-12-22_01-00003.txt mentions these keywords related to 1969: ...\n",
      "KB_JB838_1887-12-22_01-00004.txt mentions these keywords related to 1969: ...\n",
      "KB_JB838_1887-12-22_01-00005.txt mentions these keywords related to 1969: ...\n",
      "KB_JB838_1887-12-22_01-00006.txt mentions these keywords related to 1969: ...\n",
      "KB_JB838_1887-12-23_01-00001.txt mentions these keywords related to 1969: ...\n",
      "KB_JB838_1887-12-23_01-00002.txt mentions these keywords related to 1969: ...\n",
      "KB_JB838_1887-12-24_01-00001.txt mentions these keywords related to 1969: ...\n",
      "KB_JB838_1887-12-24_01-00002.txt mentions these keywords related to 1969: ...\n"
     ]
    }
   ],
   "source": [
    "## Faire la même opération sur tous les documents\n",
    "for f in sorted(files)[:10]:\n",
    "    text = open(os.path.join(data_path, f), 'r', encoding=\"utf-8\").read()\n",
    "    keywords = kw_extractor.extract_keywords(text)\n",
    "    kept = []\n",
    "    for kw, score in keywords:\n",
    "        if '1969' in kw:\n",
    "            kept.append(kw)\n",
    "    print(f\"{f} mentions these keywords related to 1969: {', '.join(kept)}...\")"
   ]
  }
 ],
 "metadata": {
  "kernelspec": {
   "display_name": "Python 3.10.5 ('tac_venv': venv)",
   "language": "python",
   "name": "python3"
  },
  "language_info": {
   "codemirror_mode": {
    "name": "ipython",
    "version": 3
   },
   "file_extension": ".py",
   "mimetype": "text/x-python",
   "name": "python",
   "nbconvert_exporter": "python",
   "pygments_lexer": "ipython3",
   "version": "3.11.6"
  },
  "vscode": {
   "interpreter": {
    "hash": "b1932ab1d169b4769d1550e799423b6477588e745f266d79d9004c136c81607e"
   }
  }
 },
 "nbformat": 4,
 "nbformat_minor": 4
}
